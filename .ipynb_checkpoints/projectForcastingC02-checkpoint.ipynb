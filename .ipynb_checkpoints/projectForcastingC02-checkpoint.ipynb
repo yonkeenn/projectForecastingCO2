{
 "cells": [
  {
   "cell_type": "code",
   "execution_count": 3,
   "id": "4c5d42dc-4024-4b12-9f5b-a42bce8e2572",
   "metadata": {},
   "outputs": [],
   "source": [
    "import matplotlib.pyplot as plt\n",
    "import numpy as np\n",
    "import pandas as pd\n",
    "import seaborn as sns\n",
    "from sklearn import preprocessing, svm\n",
    "from sklearn.model_selection import train_test_split\n",
    "from sklearn.linear_model import LinearRegression\n",
    "from sklearn.metrics import mean_absolute_error,mean_squared_error, mean_absolute_percentage_error\n",
    "from scipy import stats \n",
    "import statsmodels.api as sm\n",
    "from sklearn.preprocessing import PolynomialFeatures\n",
    "import re\n",
    "\n",
    "import statsmodels.api as sm\n",
    "from statsmodels.tsa.ar_model import AutoReg\n",
    "from statsmodels.tsa.stattools import acf\n",
    "from statsmodels.graphics.tsaplots import plot_acf,plot_pacf\n",
    "from statsmodels.tsa.ar_model import AutoReg\n",
    "\n",
    "from scipy.interpolate import interp1d\n",
    "\n",
    "import wget\n",
    "\n",
    "sns.set(rc={'figure.figsize':(11.7,8.27)})"
   ]
  },
  {
   "cell_type": "markdown",
   "id": "193eef1c-3250-472a-96e3-694decb6b870",
   "metadata": {},
   "source": [
    "## 1. Data Understanding\n",
    "\n",
    "First we have to find data related to Dioxid of Carbone(C02) concentration in the Atmosphere. We can get this information from the Scripps Institution of Oceanography which can shoe monthly, weekly, dayli datasets. For our project, we will use the montly report: monthly_in_situ_co2_mlo.csv.\n",
    "- source: https://scrippsco2.ucsd.edu/data/atmospheric_co2/primary_mlo_co2_record.html\n",
    "\n",
    "The information recollected comes the observatory located at about 3,400 m altitude on Mauna Loa Volcano on Hawaii Island. This place has not influence of changing CO2 due it is near local vegetation and the wind prevail well-mixed air to the site. This information is provided from March 1958.\n",
    "\n",
    "We will use information regarded to C02 concentration which can be model as:\n",
    "\n",
    "$$ C_ i = F(t_ i) + P_ i + R_ i $$\n",
    "\n",
    "- F(t_ i) : Trendy pattern\n",
    "- P_ i : Seasonal pattern\n",
    "- R_ i : Residual\n",
    "\n",
    "Later during evaluation we will see if this decomposition is meaningful."
   ]
  },
  {
   "cell_type": "code",
   "execution_count": 14,
   "id": "500e199c-e97e-4b5c-ba99-f2e916efa87d",
   "metadata": {},
   "outputs": [
    {
     "name": "stdout",
     "output_type": "stream",
     "text": [
      "monthly_in_situ_co2_mlo (1).csv\n"
     ]
    }
   ],
   "source": [
    "# Download raw data from source:\n",
    "DataRaw_C02_url = 'https://scrippsco2.ucsd.edu/assets/data/atmospheric/stations/in_situ_co2/monthly/monthly_in_situ_co2_mlo.csv'\n",
    "DataRaw_C02 = wget.download(DataRaw_C02_url)\n",
    "print(DataRaw_C02)"
   ]
  },
  {
   "cell_type": "code",
   "execution_count": 22,
   "id": "9179d996-2fb7-4696-9227-b6fcc0a46952",
   "metadata": {},
   "outputs": [
    {
     "name": "stdout",
     "output_type": "stream",
     "text": [
      "Dataframe has 780 data points of 10 features\n"
     ]
    },
    {
     "data": {
      "text/html": [
       "<div>\n",
       "<style scoped>\n",
       "    .dataframe tbody tr th:only-of-type {\n",
       "        vertical-align: middle;\n",
       "    }\n",
       "\n",
       "    .dataframe tbody tr th {\n",
       "        vertical-align: top;\n",
       "    }\n",
       "\n",
       "    .dataframe thead th {\n",
       "        text-align: right;\n",
       "    }\n",
       "</style>\n",
       "<table border=\"1\" class=\"dataframe\">\n",
       "  <thead>\n",
       "    <tr style=\"text-align: right;\">\n",
       "      <th></th>\n",
       "      <th>year</th>\n",
       "      <th>month</th>\n",
       "      <th>date1</th>\n",
       "      <th>date2</th>\n",
       "      <th>co2</th>\n",
       "      <th>co2_season_adj</th>\n",
       "      <th>co2_spline_season_adj</th>\n",
       "      <th>co2_spline</th>\n",
       "      <th>co2_fill_7</th>\n",
       "      <th>co2_fill_8</th>\n",
       "    </tr>\n",
       "  </thead>\n",
       "  <tbody>\n",
       "    <tr>\n",
       "      <th>0</th>\n",
       "      <td>1958</td>\n",
       "      <td>1</td>\n",
       "      <td>21200</td>\n",
       "      <td>1958.0411</td>\n",
       "      <td>-99.99</td>\n",
       "      <td>-99.99</td>\n",
       "      <td>-99.99</td>\n",
       "      <td>-99.99</td>\n",
       "      <td>-99.99</td>\n",
       "      <td>-99.99</td>\n",
       "    </tr>\n",
       "    <tr>\n",
       "      <th>1</th>\n",
       "      <td>1958</td>\n",
       "      <td>2</td>\n",
       "      <td>21231</td>\n",
       "      <td>1958.1260</td>\n",
       "      <td>-99.99</td>\n",
       "      <td>-99.99</td>\n",
       "      <td>-99.99</td>\n",
       "      <td>-99.99</td>\n",
       "      <td>-99.99</td>\n",
       "      <td>-99.99</td>\n",
       "    </tr>\n",
       "    <tr>\n",
       "      <th>2</th>\n",
       "      <td>1958</td>\n",
       "      <td>3</td>\n",
       "      <td>21259</td>\n",
       "      <td>1958.2027</td>\n",
       "      <td>315.71</td>\n",
       "      <td>314.44</td>\n",
       "      <td>316.20</td>\n",
       "      <td>314.91</td>\n",
       "      <td>315.71</td>\n",
       "      <td>314.44</td>\n",
       "    </tr>\n",
       "    <tr>\n",
       "      <th>3</th>\n",
       "      <td>1958</td>\n",
       "      <td>4</td>\n",
       "      <td>21290</td>\n",
       "      <td>1958.2877</td>\n",
       "      <td>317.45</td>\n",
       "      <td>315.16</td>\n",
       "      <td>317.30</td>\n",
       "      <td>314.99</td>\n",
       "      <td>317.45</td>\n",
       "      <td>315.16</td>\n",
       "    </tr>\n",
       "    <tr>\n",
       "      <th>4</th>\n",
       "      <td>1958</td>\n",
       "      <td>5</td>\n",
       "      <td>21320</td>\n",
       "      <td>1958.3699</td>\n",
       "      <td>317.51</td>\n",
       "      <td>314.70</td>\n",
       "      <td>317.88</td>\n",
       "      <td>315.07</td>\n",
       "      <td>317.51</td>\n",
       "      <td>314.70</td>\n",
       "    </tr>\n",
       "  </tbody>\n",
       "</table>\n",
       "</div>"
      ],
      "text/plain": [
       "   year  month  date1      date2     co2  co2_season_adj  \\\n",
       "0  1958      1  21200  1958.0411  -99.99          -99.99   \n",
       "1  1958      2  21231  1958.1260  -99.99          -99.99   \n",
       "2  1958      3  21259  1958.2027  315.71          314.44   \n",
       "3  1958      4  21290  1958.2877  317.45          315.16   \n",
       "4  1958      5  21320  1958.3699  317.51          314.70   \n",
       "\n",
       "   co2_spline_season_adj  co2_spline  co2_fill_7  co2_fill_8  \n",
       "0                 -99.99      -99.99      -99.99      -99.99  \n",
       "1                 -99.99      -99.99      -99.99      -99.99  \n",
       "2                 316.20      314.91      315.71      314.44  \n",
       "3                 317.30      314.99      317.45      315.16  \n",
       "4                 317.88      315.07      317.51      314.70  "
      ]
     },
     "execution_count": 22,
     "metadata": {},
     "output_type": "execute_result"
    }
   ],
   "source": [
    "# Create the dataframe from csv file:\n",
    "cols = [\"year\", \"month\", \"date1\", \"date2\", \"co2\", \"co2_season_adj\", \"co2_spline_season_adj\", \"co2_spline\", \"co2_fill_7\", \"co2_fill_8\"]\n",
    "df_co2=pd.read_csv(\"./monthly_in_situ_co2_mlo.csv\", skiprows = 57, header=None, names=cols)\n",
    "print('Dataframe has {:d} data points of {:d} features'.format(df_co2.shape[0],df_co2.shape[1]))\n",
    "df_co2.head()"
   ]
  },
  {
   "cell_type": "markdown",
   "id": "0e375b41-918b-469a-ab56-05b8a0fc9321",
   "metadata": {},
   "source": [
    "## 2. Pre-Processing\n",
    "\n",
    "After a quick review, the raw dataset has some information which need to be pre-processed before using in the model:\n",
    "- Usage only the columns year, month, co2(ppm).\n",
    "- Add columns like time t= (t+0.5)/12.\n",
    "- Delete comments in \" \" \" and headers which cannot help us to understand the data(skiprows = 57).\n",
    "- Drop co2 values equal to -99.99 which are some inhomogeneities.\n",
    "- Drop NaN values."
   ]
  },
  {
   "cell_type": "code",
   "execution_count": 23,
   "id": "087599fc-7261-4cae-b5eb-566dcef238d0",
   "metadata": {},
   "outputs": [
    {
     "name": "stdout",
     "output_type": "stream",
     "text": [
      "Dataframe has 768 data points of 4 features\n"
     ]
    },
    {
     "data": {
      "text/html": [
       "<div>\n",
       "<style scoped>\n",
       "    .dataframe tbody tr th:only-of-type {\n",
       "        vertical-align: middle;\n",
       "    }\n",
       "\n",
       "    .dataframe tbody tr th {\n",
       "        vertical-align: top;\n",
       "    }\n",
       "\n",
       "    .dataframe thead th {\n",
       "        text-align: right;\n",
       "    }\n",
       "</style>\n",
       "<table border=\"1\" class=\"dataframe\">\n",
       "  <thead>\n",
       "    <tr style=\"text-align: right;\">\n",
       "      <th></th>\n",
       "      <th>year</th>\n",
       "      <th>month</th>\n",
       "      <th>co2</th>\n",
       "      <th>time</th>\n",
       "    </tr>\n",
       "  </thead>\n",
       "  <tbody>\n",
       "    <tr>\n",
       "      <th>2</th>\n",
       "      <td>1958</td>\n",
       "      <td>3</td>\n",
       "      <td>315.71</td>\n",
       "      <td>0.208333</td>\n",
       "    </tr>\n",
       "    <tr>\n",
       "      <th>3</th>\n",
       "      <td>1958</td>\n",
       "      <td>4</td>\n",
       "      <td>317.45</td>\n",
       "      <td>0.291667</td>\n",
       "    </tr>\n",
       "    <tr>\n",
       "      <th>4</th>\n",
       "      <td>1958</td>\n",
       "      <td>5</td>\n",
       "      <td>317.51</td>\n",
       "      <td>0.375000</td>\n",
       "    </tr>\n",
       "    <tr>\n",
       "      <th>6</th>\n",
       "      <td>1958</td>\n",
       "      <td>7</td>\n",
       "      <td>315.87</td>\n",
       "      <td>0.541667</td>\n",
       "    </tr>\n",
       "    <tr>\n",
       "      <th>7</th>\n",
       "      <td>1958</td>\n",
       "      <td>8</td>\n",
       "      <td>314.93</td>\n",
       "      <td>0.625000</td>\n",
       "    </tr>\n",
       "  </tbody>\n",
       "</table>\n",
       "</div>"
      ],
      "text/plain": [
       "   year  month     co2      time\n",
       "2  1958      3  315.71  0.208333\n",
       "3  1958      4  317.45  0.291667\n",
       "4  1958      5  317.51  0.375000\n",
       "6  1958      7  315.87  0.541667\n",
       "7  1958      8  314.93  0.625000"
      ]
     },
     "execution_count": 23,
     "metadata": {},
     "output_type": "execute_result"
    }
   ],
   "source": [
    "# Pre-process the dataset:\n",
    "df_co2 = df_co2.iloc[:,[x for x in range(df_co2.shape[1]) if x in [0,1,4]]]\n",
    "df_co2[\"time\"] = [(i+0.5)/12 for i in range(0, df_co2.iloc[:,0].size)]\n",
    "df_co2[df_co2 == -99.99] = np.NaN\n",
    "df_co2 = df_co2.dropna()\n",
    "print('Dataframe has {:d} data points of {:d} features'.format(df_co2.shape[0],df_co2.shape[1]))\n",
    "df_co2.head()"
   ]
  },
  {
   "cell_type": "markdown",
   "id": "3c6ac2f7-81e3-478d-928c-084c6d328753",
   "metadata": {},
   "source": [
    "For further modeling, we will split the data into train and test dataset. "
   ]
  },
  {
   "cell_type": "code",
   "execution_count": 24,
   "id": "18e9a398-9631-41bd-9656-b708429975a3",
   "metadata": {},
   "outputs": [
    {
     "name": "stdout",
     "output_type": "stream",
     "text": [
      "(614, 1) (154, 1) (614, 1) (154, 1) (614, 4) (154, 4)\n"
     ]
    }
   ],
   "source": [
    "# Take values for x and y\n",
    "x = df_co2[\"time\"].values\n",
    "y = df_co2[\"co2\"].values\n",
    "\n",
    "# Split data\n",
    "x_train, x_test, y_train, y_test = train_test_split(x.reshape(-1,1), y.reshape(-1,1), test_size = 0.20, shuffle=False )\n",
    "\n",
    "# Define training and testing dataset:\n",
    "df_co2_train = df_co2[0:len(x_train)]\n",
    "df_co2_test = df_co2[len(x_train):len(df_co2)]\n",
    "\n",
    "print(x_train.shape, x_test.shape, y_train.shape, y_test.shape, df_co2_train.shape, df_co2_test.shape)"
   ]
  },
  {
   "cell_type": "code",
   "execution_count": 29,
   "id": "08f0ee35-7bfc-478a-87ea-22315fe17dc2",
   "metadata": {},
   "outputs": [
    {
     "data": {
      "image/png": "[encoded data removed]",
      "text/plain": [
       "<Figure size 842.4x595.44 with 1 Axes>"
      ]
     },
     "metadata": {},
     "output_type": "display_data"
    }
   ],
   "source": [
    "# Plotting The Keeling Curve\n",
    "plt.scatter(x_train[:,0],y_train[:,0], linewidth = 1, color = 'r')\n",
    "plt.xlabel('Year(ti)')\n",
    "plt.ylabel('CO2 ppm')\n",
    "plt.title('CO2 Concentration by Year')\n",
    "plt.savefig('./images/CO2-curve.jpg')\n",
    "plt.show()"
   ]
  },
  {
   "cell_type": "code",
   "execution_count": null,
   "id": "e952288c-68fe-48ee-85eb-5ea6cc9203bc",
   "metadata": {},
   "outputs": [],
   "source": []
  }
 ],
 "metadata": {
  "kernelspec": {
   "display_name": "Python 3",
   "language": "python",
   "name": "python3"
  },
  "language_info": {
   "codemirror_mode": {
    "name": "ipython",
    "version": 3
   },
   "file_extension": ".py",
   "mimetype": "text/x-python",
   "name": "python",
   "nbconvert_exporter": "python",
   "pygments_lexer": "ipython3",
   "version": "3.7.13"
  }
 },
 "nbformat": 4,
 "nbformat_minor": 5
}
